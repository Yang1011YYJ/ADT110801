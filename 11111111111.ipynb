{
 "cells": [
  {
   "cell_type": "code",
   "execution_count": 28,
   "id": "b50604a5",
   "metadata": {},
   "outputs": [
    {
     "name": "stdout",
     "output_type": "stream",
     "text": [
      "請輸入正整數:10\n",
      "1 + 2 + 3 + 4 + 5 + 6 + 7 + 8 + 9 + 10 = 55\n"
     ]
    }
   ],
   "source": [
    "n=int(input(\"請輸入正整數:\"))\n",
    "k=0\n",
    "for i in range(1,n+1):\n",
    "    k=k+i\n",
    "if n<=10:\n",
    "    for j in range(1,n+1):\n",
    "        if j>=n:\n",
    "            print(j,\"=\",k)\n",
    "        else:\n",
    "            print(j,\"+\",end=\" \")\n",
    "else:\n",
    "    print(\"1 + 2 + ...... + %d = %d\"%(n,k))"
   ]
  },
  {
   "cell_type": "code",
   "execution_count": null,
   "id": "e65cac41",
   "metadata": {},
   "outputs": [],
   "source": []
  },
  {
   "cell_type": "code",
   "execution_count": null,
   "id": "aaa197fc",
   "metadata": {},
   "outputs": [],
   "source": []
  }
 ],
 "metadata": {
  "kernelspec": {
   "display_name": "Python 3",
   "language": "python",
   "name": "python3"
  },
  "language_info": {
   "codemirror_mode": {
    "name": "ipython",
    "version": 3
   },
   "file_extension": ".py",
   "mimetype": "text/x-python",
   "name": "python",
   "nbconvert_exporter": "python",
   "pygments_lexer": "ipython3",
   "version": "3.6.13"
  }
 },
 "nbformat": 4,
 "nbformat_minor": 5
}
